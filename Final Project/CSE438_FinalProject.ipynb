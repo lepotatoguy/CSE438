{
 "cells": [
  {
   "cell_type": "markdown",
   "metadata": {},
   "source": [
    "# Importing Libraries"
   ]
  },
  {
   "cell_type": "code",
   "execution_count": 64,
   "metadata": {},
   "outputs": [
    {
     "name": "stdout",
     "output_type": "stream",
     "text": [
      "Requirement already satisfied: unidecode in c:\\users\\joyan\\.conda\\envs\\tf_gpu\\lib\\site-packages (1.3.4)\n",
      "Requirement already satisfied: openpyxl in c:\\users\\joyan\\.conda\\envs\\tf_gpu\\lib\\site-packages (3.0.9)\n",
      "Requirement already satisfied: et-xmlfile in c:\\users\\joyan\\.conda\\envs\\tf_gpu\\lib\\site-packages (from openpyxl) (1.1.0)\n"
     ]
    }
   ],
   "source": [
    "import numpy as np\n",
    "import pandas as pd \n",
    "import seaborn as sns\n",
    "import matplotlib.pyplot as plt\n",
    "\n",
    "import sklearn\n",
    "from sklearn.preprocessing import LabelEncoder\n",
    "\n",
    "!pip install unidecode\n",
    "!pip install openpyxl\n",
    "\n",
    "import pandas as pd\n",
    "from pandas import read_excel\n",
    "import numpy as np\n",
    "import re\n",
    "from re import sub\n",
    "import multiprocessing\n",
    "from unidecode import unidecode\n",
    "import os\n",
    "from time import time \n",
    "import tensorflow as tf\n",
    "from tensorflow.keras.models import Sequential\n",
    "from tensorflow.keras.layers import Dense, Dropout, Activation, Embedding, Flatten, Conv1D, BatchNormalization\n",
    "from tensorflow.keras.optimizers import SGD,Adam\n",
    "from tensorflow.keras import regularizers\n",
    "from tensorflow.keras.preprocessing.text import Tokenizer\n",
    "from tensorflow.keras.preprocessing.sequence import pad_sequences\n",
    "from tensorflow.keras.utils import to_categorical\n",
    "import tensorflow.keras.backend as K\n",
    "import h5py\n",
    "import csv\n",
    "import seaborn as sns\n",
    "import matplotlib.pyplot as plt\n",
    "from sklearn.model_selection import train_test_split\n",
    "from sklearn.model_selection import StratifiedKFold\n",
    "\n"
   ]
  },
  {
   "cell_type": "code",
   "execution_count": 65,
   "metadata": {},
   "outputs": [
    {
     "data": {
      "text/html": [
       "<div>\n",
       "<style scoped>\n",
       "    .dataframe tbody tr th:only-of-type {\n",
       "        vertical-align: middle;\n",
       "    }\n",
       "\n",
       "    .dataframe tbody tr th {\n",
       "        vertical-align: top;\n",
       "    }\n",
       "\n",
       "    .dataframe thead th {\n",
       "        text-align: right;\n",
       "    }\n",
       "</style>\n",
       "<table border=\"1\" class=\"dataframe\">\n",
       "  <thead>\n",
       "    <tr style=\"text-align: right;\">\n",
       "      <th></th>\n",
       "      <th>Source</th>\n",
       "      <th>Date</th>\n",
       "      <th>Text</th>\n",
       "      <th>Category</th>\n",
       "      <th>Polarity</th>\n",
       "    </tr>\n",
       "  </thead>\n",
       "  <tbody>\n",
       "    <tr>\n",
       "      <th>0</th>\n",
       "      <td>BBC Bangla</td>\n",
       "      <td>2018-06-03 00:00:00</td>\n",
       "      <td>জয় বাংলা কাপ! তাও আবার স্বাধীনতার মাস মার্চে। ...</td>\n",
       "      <td>other</td>\n",
       "      <td>positive</td>\n",
       "    </tr>\n",
       "    <tr>\n",
       "      <th>1</th>\n",
       "      <td>BBC Bangla</td>\n",
       "      <td>2018-06-04 00:00:00</td>\n",
       "      <td>জয় বাংলা কাপ! তাও আবার স্বাধীনতার মাস মার্চে। ...</td>\n",
       "      <td>team</td>\n",
       "      <td>positive</td>\n",
       "    </tr>\n",
       "    <tr>\n",
       "      <th>2</th>\n",
       "      <td>BBC Bangla</td>\n",
       "      <td>15/6/2017</td>\n",
       "      <td>বাংলাদেশের পরে ভারতের সাপর্ট ই করি ?</td>\n",
       "      <td>team</td>\n",
       "      <td>positive</td>\n",
       "    </tr>\n",
       "    <tr>\n",
       "      <th>3</th>\n",
       "      <td>BBC Bangla</td>\n",
       "      <td>15/6/2020</td>\n",
       "      <td>সৌম্যকে বাদ দেওয়া হোক</td>\n",
       "      <td>batting</td>\n",
       "      <td>negative</td>\n",
       "    </tr>\n",
       "    <tr>\n",
       "      <th>4</th>\n",
       "      <td>BBC Bangla</td>\n",
       "      <td>27/1/2018</td>\n",
       "      <td>প্রথমটি হচ্ছে, কোচ অত:পর সাকিব,সাকিব আর সাকিবর...</td>\n",
       "      <td>team</td>\n",
       "      <td>positive</td>\n",
       "    </tr>\n",
       "  </tbody>\n",
       "</table>\n",
       "</div>"
      ],
      "text/plain": [
       "       Source                 Date  \\\n",
       "0  BBC Bangla  2018-06-03 00:00:00   \n",
       "1  BBC Bangla  2018-06-04 00:00:00   \n",
       "2  BBC Bangla            15/6/2017   \n",
       "3  BBC Bangla            15/6/2020   \n",
       "4  BBC Bangla            27/1/2018   \n",
       "\n",
       "                                                Text Category  Polarity  \n",
       "0  জয় বাংলা কাপ! তাও আবার স্বাধীনতার মাস মার্চে। ...    other  positive  \n",
       "1  জয় বাংলা কাপ! তাও আবার স্বাধীনতার মাস মার্চে। ...     team  positive  \n",
       "2               বাংলাদেশের পরে ভারতের সাপর্ট ই করি ?     team  positive  \n",
       "3                              সৌম্যকে বাদ দেওয়া হোক  batting  negative  \n",
       "4  প্রথমটি হচ্ছে, কোচ অত:পর সাকিব,সাকিব আর সাকিবর...     team  positive  "
      ]
     },
     "execution_count": 65,
     "metadata": {},
     "output_type": "execute_result"
    }
   ],
   "source": [
    "dataset_cricket = pd.read_excel(io=\"Cricket.xlsx\", sheet_name=\"Sheet1\", engine='openpyxl')\n",
    "dataset_cricket.head()"
   ]
  },
  {
   "cell_type": "code",
   "execution_count": 66,
   "metadata": {},
   "outputs": [
    {
     "name": "stderr",
     "output_type": "stream",
     "text": [
      "c:\\Users\\joyan\\.conda\\envs\\tf_gpu\\lib\\site-packages\\seaborn\\_decorators.py:43: FutureWarning: Pass the following variable as a keyword arg: x. From version 0.12, the only valid positional argument will be `data`, and passing other arguments without an explicit keyword will result in an error or misinterpretation.\n",
      "  FutureWarning\n"
     ]
    },
    {
     "data": {
      "text/plain": [
       "<AxesSubplot:xlabel='Polarity', ylabel='count'>"
      ]
     },
     "execution_count": 66,
     "metadata": {},
     "output_type": "execute_result"
    },
    {
     "data": {
      "image/png": "[encoded data removed]",
      "text/plain": [
       "<Figure size 432x288 with 1 Axes>"
      ]
     },
     "metadata": {
      "needs_background": "light"
     },
     "output_type": "display_data"
    }
   ],
   "source": [
    "sns.countplot(dataset_cricket['Polarity'])"
   ]
  },
  {
   "cell_type": "markdown",
   "metadata": {},
   "source": [
    "3 polarities in the Dataset"
   ]
  },
  {
   "cell_type": "markdown",
   "metadata": {},
   "source": [
    "# Data Preprocessing"
   ]
  },
  {
   "cell_type": "markdown",
   "metadata": {},
   "source": [
    "1. Text to Word\n",
    "2. Removing Punctuations and Special Characters"
   ]
  },
  {
   "cell_type": "code",
   "execution_count": 69,
   "metadata": {},
   "outputs": [],
   "source": [
    "def text_to_word_list(text):\n",
    "    text = text.split()\n",
    "    return text\n",
    "\n",
    "def replace_strings(text):\n",
    "    emoji_pattern = re.compile(\"[\"\n",
    "                           u\"\\U0001F600-\\U0001F64F\"  # emoticons\n",
    "                           u\"\\U0001F300-\\U0001F5FF\"  # symbols & pictographs\n",
    "                           u\"\\U0001F680-\\U0001F6FF\"  # transport & map symbols\n",
    "                           u\"\\U0001F1E0-\\U0001F1FF\"  # flags (iOS)\n",
    "                           u\"\\U00002702-\\U000027B0\"\n",
    "                           u\"\\U000024C2-\\U0001F251\"\n",
    "                           u\"\\u00C0-\\u017F\"          #latin\n",
    "                           u\"\\u2000-\\u206F\"          #generalPunctuations\n",
    "                               \n",
    "                           \"]+\", flags=re.UNICODE)\n",
    "    english_pattern=re.compile('[a-zA-Z0-9]+', flags=re.I)\n",
    "    #latin_pattern=re.compile('[A-Za-z\\u00C0-\\u00D6\\u00D8-\\u00f6\\u00f8-\\u00ff\\s]*',)\n",
    "    \n",
    "    text=emoji_pattern.sub(r'', text)\n",
    "    text=english_pattern.sub(r'', text)\n",
    "\n",
    "    return text\n",
    "\n",
    "def remove_punctuations(my_str):\n",
    "    # define punctuation\n",
    "    punctuations = '''```\u0012\u0010\u0002\b`\u0007\b£|¢|\u0007Ñ+-*/=EROero৳০১২৩৪৫৬৭৮৯012–34567•89।!()-[]{};:'\"“\\’,<>./?@#$%^&*_~‘—॥”‰⚽️✌�￰৷￰'''\n",
    "    \n",
    "    no_punct = \"\"\n",
    "    for char in my_str:\n",
    "        if char not in punctuations:\n",
    "            no_punct = no_punct + char\n",
    "\n",
    "    # display the unpunctuated string\n",
    "    return no_punct\n",
    "\n",
    "\n",
    "\n",
    "def joining(text):\n",
    "    out=' '.join(text)\n",
    "    return out\n",
    "\n",
    "def preprocessing(text):\n",
    "    out=remove_punctuations(replace_strings(text))\n",
    "    return out"
   ]
  },
  {
   "cell_type": "code",
   "execution_count": 70,
   "metadata": {},
   "outputs": [],
   "source": [
    "dataset_cricket['Text'] = dataset_cricket.Text.apply(lambda x: preprocessing(str(x)))"
   ]
  },
  {
   "cell_type": "code",
   "execution_count": 71,
   "metadata": {},
   "outputs": [],
   "source": [
    "dataset_cricket.reset_index(drop=True, inplace=True)\n"
   ]
  },
  {
   "cell_type": "code",
   "execution_count": 72,
   "metadata": {},
   "outputs": [],
   "source": [
    "enc = LabelEncoder()\n",
    "dataset_cricket['Polarity'] = enc.fit_transform(dataset_cricket['Polarity'])\n"
   ]
  },
  {
   "cell_type": "markdown",
   "metadata": {},
   "source": [
    "Now we will prepare the dataset to train in the proposed CNN network.So, we have to convert all Sentences into a numpy Array.\n",
    "\n",
    "We have divided the training and testing data into 80/20 ratio.\n",
    "\n",
    "We have converted the sentiment values into one hot encodings for the convenient use in model training."
   ]
  },
  {
   "cell_type": "code",
   "execution_count": 73,
   "metadata": {},
   "outputs": [
    {
     "name": "stdout",
     "output_type": "stream",
     "text": [
      "Training Set Length: 2383\n",
      "Testing Set Length: 596\n",
      "training_sentences shape: (2383,)\n",
      "testing_sentences shape: (596,)\n",
      "train_labels shape: (2383, 3)\n",
      "test_labels shape: (596, 3)\n"
     ]
    }
   ],
   "source": [
    "train1, test1 = train_test_split(dataset_cricket,random_state=69, test_size=0.2)\n",
    "training_sentences_cricket = []\n",
    "testing_sentences_cricket = []\n",
    "\n",
    "\n",
    "\n",
    "train_sentences_cricket=train1['Text'].values\n",
    "train_labels_cricket=train1['Polarity'].values\n",
    "for i in range(train_sentences_cricket.shape[0]): \n",
    "    #print(train_sentences[i])\n",
    "    x=str(train_sentences_cricket[i])\n",
    "    training_sentences_cricket.append(x)\n",
    "    \n",
    "training_sentences_cricket=np.array(training_sentences_cricket)\n",
    "\n",
    "\n",
    "\n",
    "\n",
    "\n",
    "test_sentences_cricket=test1['Text'].values\n",
    "test_labels_cricket=test1['Polarity'].values\n",
    "\n",
    "for i in range(test_sentences_cricket.shape[0]): \n",
    "    x=str(test_sentences_cricket[i])\n",
    "    testing_sentences_cricket.append(x)\n",
    "    \n",
    "testing_sentences_cricket=np.array(testing_sentences_cricket)\n",
    "\n",
    "\n",
    "train_labels_cricket=tf.keras.utils.to_categorical(train_labels_cricket)\n",
    "\n",
    "\n",
    "test_labels_cricket=tf.keras.utils.to_categorical(test_labels_cricket)\n",
    "print(\"Training Set Length: \"+str(len(train1)))\n",
    "print(\"Testing Set Length: \"+str(len(test1)))\n",
    "print(\"training_sentences shape: \"+str(training_sentences_cricket.shape))\n",
    "print(\"testing_sentences shape: \"+str(testing_sentences_cricket.shape))\n",
    "print(\"train_labels shape: \"+str(train_labels_cricket.shape))\n",
    "print(\"test_labels shape: \"+str(test_labels_cricket.shape))"
   ]
  },
  {
   "cell_type": "code",
   "execution_count": 74,
   "metadata": {},
   "outputs": [
    {
     "name": "stdout",
     "output_type": "stream",
     "text": [
      "নবাগত প্লেয়ার হয়েও চাপের মুখে দলের বিপদে চমৎকার একটি  রানের ইনিংস খেলেছেন লিটন\n",
      "[1. 0. 0.]\n"
     ]
    }
   ],
   "source": [
    "print(training_sentences_cricket[1])\n",
    "print(train_labels_cricket[0])"
   ]
  },
  {
   "cell_type": "markdown",
   "metadata": {},
   "source": [
    "Now, we will predefine some variables.\n",
    "\n",
    "vocab_size is the maximum vocabulary length of Tokenizer.\n",
    "\n",
    "KERAS tokenzier allows to vectorize a text corpus, by turning each text into either a sequence of integers (each integer being the index of a token in a dictionary) or into a vector where the coefficient for each token could be binary, based on word count, based on tf-idf.\n",
    "\n",
    "We will be tokenizing my dataset with this class here. We have did this tokenization so that it can be later used to generate Embeddings.\n",
    "\n",
    "The main advantage of word embedding is that words that share a similar context can be represented close to each other in the vector space. Thus, vectors carry a sense of semantic of a word.\n",
    "\n",
    "We have predefined the embedding dimension as 300(embedding_dim).\n",
    "\n",
    "max_length is the sentence maximum length.\n",
    "\n",
    "trunc_type is the truncation type.\n",
    "\n",
    "oov_token is the token for the words that are not present in the corpus.oov means out of vocabulary."
   ]
  },
  {
   "cell_type": "code",
   "execution_count": 75,
   "metadata": {},
   "outputs": [],
   "source": [
    "vocab_size = len(training_sentences_cricket)+1\n",
    "embedding_dim = 100\n",
    "max_length = 100\n",
    "trunc_type='post'\n",
    "oov_tok = \"<OOV>\""
   ]
  },
  {
   "cell_type": "code",
   "execution_count": 76,
   "metadata": {},
   "outputs": [
    {
     "name": "stdout",
     "output_type": "stream",
     "text": [
      "(2383,)\n",
      "(2383, 3)\n"
     ]
    }
   ],
   "source": [
    "print(training_sentences_cricket.shape)\n",
    "print(train_labels_cricket.shape)"
   ]
  },
  {
   "cell_type": "markdown",
   "metadata": {},
   "source": [
    "At first, we will tokenize and then, we will be padding the sequences. We have used tokenizer only on training dataset to see how the model performs on unseen words."
   ]
  },
  {
   "cell_type": "code",
   "execution_count": 77,
   "metadata": {},
   "outputs": [
    {
     "name": "stdout",
     "output_type": "stream",
     "text": [
      "6414\n",
      "Word index length:6414\n"
     ]
    }
   ],
   "source": [
    "tokenizer = Tokenizer(num_words = vocab_size, oov_token=oov_tok)\n",
    "tokenizer.fit_on_texts(training_sentences_cricket)\n",
    "word_index = tokenizer.word_index\n",
    "print(len(word_index))\n",
    "print(\"Word index length:\"+str(len(tokenizer.word_index)))\n",
    "sequences = tokenizer.texts_to_sequences(training_sentences_cricket)\n",
    "padded = pad_sequences(sequences,maxlen=max_length, truncating=trunc_type)\n",
    "\n",
    "\n",
    "test_sequences = tokenizer.texts_to_sequences(testing_sentences_cricket)\n",
    "testing_padded = pad_sequences(test_sequences,maxlen=max_length)"
   ]
  },
  {
   "cell_type": "code",
   "execution_count": 78,
   "metadata": {},
   "outputs": [
    {
     "name": "stdout",
     "output_type": "stream",
     "text": [
      "Sentence :--> \n",
      "\n",
      "তারা কোথায় যারা বলেছিল হাতুরাসিংহে বনাম বাংলাদেশ এর খেলা\n",
      "\n",
      "Sentence Tokenized and Converted into Sequence :--> \n",
      "\n",
      "[70, 1514, 141, 859, 1, 460, 4, 19, 23]\n",
      "\n",
      "After Padding the Sequence with padding length 100 :--> \n",
      "\n",
      "[   0    0    0    0    0    0    0    0    0    0    0    0    0    0\n",
      "    0    0    0    0    0    0    0    0    0    0    0    0    0    0\n",
      "    0    0    0    0    0    0    0    0    0    0    0    0    0    0\n",
      "    0    0    0    0    0    0    0    0    0    0    0    0    0    0\n",
      "    0    0    0    0    0    0    0    0    0    0    0    0    0    0\n",
      "    0    0    0    0    0    0    0    0    0    0    0    0    0    0\n",
      "    0    0    0    0    0    0    0   70 1514  141  859    1  460    4\n",
      "   19   23]\n"
     ]
    }
   ],
   "source": [
    "print(\"Sentence :--> \\n\")\n",
    "print(training_sentences_cricket[2]+\"\\n\")\n",
    "print(\"Sentence Tokenized and Converted into Sequence :--> \\n\")\n",
    "print(str(sequences[2])+\"\\n\")\n",
    "print(\"After Padding the Sequence with padding length 100 :--> \\n\")\n",
    "print(padded[2])"
   ]
  },
  {
   "cell_type": "code",
   "execution_count": 79,
   "metadata": {},
   "outputs": [
    {
     "name": "stdout",
     "output_type": "stream",
     "text": [
      "Padded shape(training): (2383, 100)\n",
      "Padded shape(testing): (596, 100)\n"
     ]
    }
   ],
   "source": [
    "print(\"Padded shape(training): \"+str(padded.shape))\n",
    "print(\"Padded shape(testing): \"+str(testing_padded.shape))"
   ]
  },
  {
   "cell_type": "markdown",
   "metadata": {},
   "source": [
    "# Model Creation"
   ]
  },
  {
   "cell_type": "markdown",
   "metadata": {},
   "source": [
    "At first, we have created embeddings from the text."
   ]
  },
  {
   "cell_type": "code",
   "execution_count": 80,
   "metadata": {},
   "outputs": [],
   "source": [
    "def precision(y_true, y_pred):\n",
    "    true_positives = K.sum(K.round(K.clip(y_true * y_pred, 0, 1)))\n",
    "    predicted_positives = K.sum(K.round(K.clip(y_pred, 0, 1)))\n",
    "    precision = true_positives / (predicted_positives + K.epsilon())\n",
    "    return precision\n",
    "\n",
    "def recall(y_true, y_pred):\n",
    "    true_positives = K.sum(K.round(K.clip(y_true * y_pred, 0, 1)))\n",
    "    possible_positives = K.sum(K.round(K.clip(y_true, 0, 1)))\n",
    "    recall = true_positives / (possible_positives + K.epsilon())\n",
    "    return recall\n",
    "\n",
    "def f1_score(y_true, y_pred):\n",
    "    pr = precision(y_true, y_pred)\n",
    "    rec = recall(y_true, y_pred)\n",
    "    f1_score = 2 * (pr * rec) / (pr + rec)\n",
    "    return f1_score"
   ]
  },
  {
   "cell_type": "code",
   "execution_count": 81,
   "metadata": {},
   "outputs": [
    {
     "data": {
      "text/plain": [
       "array([[1., 0., 0.],\n",
       "       [0., 0., 1.],\n",
       "       [1., 0., 0.],\n",
       "       ...,\n",
       "       [1., 0., 0.],\n",
       "       [1., 0., 0.],\n",
       "       [1., 0., 0.]], dtype=float32)"
      ]
     },
     "execution_count": 81,
     "metadata": {},
     "output_type": "execute_result"
    }
   ],
   "source": [
    "# padded\n",
    "train_labels_cricket"
   ]
  },
  {
   "cell_type": "code",
   "execution_count": 82,
   "metadata": {},
   "outputs": [],
   "source": [
    "# raise NotImplementedError()"
   ]
  },
  {
   "cell_type": "code",
   "execution_count": 129,
   "metadata": {},
   "outputs": [
    {
     "name": "stdout",
     "output_type": "stream",
     "text": [
      "Model: \"sequential_14\"\n",
      "_________________________________________________________________\n",
      "Layer (type)                 Output Shape              Param #   \n",
      "=================================================================\n",
      "embedding_14 (Embedding)     (None, 100, 100)          238400    \n",
      "_________________________________________________________________\n",
      "conv1d_46 (Conv1D)           (None, 98, 64)            19264     \n",
      "_________________________________________________________________\n",
      "batch_normalization_78 (Batc (None, 98, 64)            256       \n",
      "_________________________________________________________________\n",
      "activation_78 (Activation)   (None, 98, 64)            0         \n",
      "_________________________________________________________________\n",
      "dropout_28 (Dropout)         (None, 98, 64)            0         \n",
      "_________________________________________________________________\n",
      "conv1d_47 (Conv1D)           (None, 96, 96)            18528     \n",
      "_________________________________________________________________\n",
      "batch_normalization_79 (Batc (None, 96, 96)            384       \n",
      "_________________________________________________________________\n",
      "activation_79 (Activation)   (None, 96, 96)            0         \n",
      "_________________________________________________________________\n",
      "conv1d_48 (Conv1D)           (None, 94, 128)           36992     \n",
      "_________________________________________________________________\n",
      "batch_normalization_80 (Batc (None, 94, 128)           512       \n",
      "_________________________________________________________________\n",
      "activation_80 (Activation)   (None, 94, 128)           0         \n",
      "_________________________________________________________________\n",
      "dropout_29 (Dropout)         (None, 94, 128)           0         \n",
      "_________________________________________________________________\n",
      "flatten_32 (Flatten)         (None, 12032)             0         \n",
      "_________________________________________________________________\n",
      "dense_43 (Dense)             (None, 128)               1540224   \n",
      "_________________________________________________________________\n",
      "batch_normalization_81 (Batc (None, 128)               512       \n",
      "_________________________________________________________________\n",
      "activation_81 (Activation)   (None, 128)               0         \n",
      "_________________________________________________________________\n",
      "flatten_33 (Flatten)         (None, 128)               0         \n",
      "_________________________________________________________________\n",
      "dense_44 (Dense)             (None, 64)                8256      \n",
      "_________________________________________________________________\n",
      "batch_normalization_82 (Batc (None, 64)                256       \n",
      "_________________________________________________________________\n",
      "activation_82 (Activation)   (None, 64)                0         \n",
      "_________________________________________________________________\n",
      "dense_45 (Dense)             (None, 3)                 195       \n",
      "=================================================================\n",
      "Total params: 1,863,779\n",
      "Trainable params: 1,862,819\n",
      "Non-trainable params: 960\n",
      "_________________________________________________________________\n"
     ]
    }
   ],
   "source": [
    "# from tensorflow.keras.layers import GlobalMaxPooling1D\n",
    "\n",
    "detection=Sequential()\n",
    "\n",
    "detection.add(Embedding(vocab_size, embedding_dim, input_length=max_length))\n",
    "\n",
    "#1 -convolutional layer-1\n",
    "detection.add(Conv1D(64 ,kernel_size=3))\n",
    "detection.add(BatchNormalization())\n",
    "detection.add(Activation('relu'))\n",
    "# detection.add(GlobalMaxPooling1D())\n",
    "detection.add(Dropout(0.1))\n",
    "\n",
    "#2 -convolutional layer-2\n",
    "detection.add(Conv1D(96,kernel_size=3))\n",
    "detection.add(BatchNormalization())\n",
    "detection.add(Activation('relu'))\n",
    "# detection.add(GlobalMaxPooling1D())\n",
    "# detection.add(Dropout(0.2))\n",
    "\n",
    "#2 -convolutional layer-2\n",
    "detection.add(Conv1D(128,kernel_size=3))\n",
    "detection.add(BatchNormalization())\n",
    "detection.add(Activation('relu'))\n",
    "# detection.add(GlobalMaxPooling1D())\n",
    "detection.add(Dropout(0.15))\n",
    "\n",
    "\n",
    "# #2 -convolutional layer-2\n",
    "# detection.add(Conv1D(256,kernel_size=3))\n",
    "# detection.add(BatchNormalization())\n",
    "# detection.add(Activation('relu'))\n",
    "# # detection.add(MaxPooling2D(pool_size=(2,2)))\n",
    "# # detection.add(GlobalMaxPooling1D())\n",
    "# detection.add(Dropout(0.2))\n",
    "\n",
    "# #3 -convolutional layer-3\n",
    "# detection.add(Conv1D(384,kernel_size=3))\n",
    "# detection.add(BatchNormalization())\n",
    "# detection.add(Activation('relu'))\n",
    "# # detection.add(GlobalMaxPooling1D())\n",
    "# # detection.add(MaxPooling2D(pool_size=(2,2)))\n",
    "# # detection.add(UpSampling2D(input_shape=(512, 3, 3)))\n",
    "# detection.add(Dropout(0.2))\n",
    "\n",
    "# #3 -convolutional layer-3\n",
    "# detection.add(Conv1D(512,kernel_size=3))\n",
    "# detection.add(BatchNormalization())\n",
    "# detection.add(Activation('relu'))\n",
    "# # detection.add(GlobalMaxPooling1D())\n",
    "# # detection.add(MaxPooling2D(pool_size=(2,2)))\n",
    "# # detection.add(UpSampling2D(input_shape=(512, 3, 3)))\n",
    "# detection.add(Dropout(0.3))\n",
    "\n",
    "\n",
    "# detection.add(Flatten())\n",
    "# detection.add(Dense(512))\n",
    "# detection.add(BatchNormalization())\n",
    "# detection.add(Activation('relu'))\n",
    "\n",
    "# detection.add(Flatten())\n",
    "# detection.add(Dense(256))\n",
    "# detection.add(BatchNormalization())\n",
    "# detection.add(Activation('relu'))\n",
    "\n",
    "detection.add(Flatten())\n",
    "detection.add(Dense(128))\n",
    "detection.add(BatchNormalization())\n",
    "detection.add(Activation('relu'))\n",
    "\n",
    "detection.add(Flatten())\n",
    "detection.add(Dense(64))\n",
    "detection.add(BatchNormalization())\n",
    "detection.add(Activation('relu'))\n",
    "\n",
    "detection.add(Dense(3,activation='sigmoid'))\n",
    "optimum=Adam(lr=0.00001)\n",
    "detection.summary()\n",
    "detection.compile(optimizer=optimum,loss='binary_crossentropy',metrics=['accuracy', precision, recall])"
   ]
  },
  {
   "cell_type": "markdown",
   "metadata": {},
   "source": [
    "Dividing training data to training and validation."
   ]
  },
  {
   "cell_type": "code",
   "execution_count": 130,
   "metadata": {},
   "outputs": [],
   "source": [
    "from sklearn.model_selection import train_test_split\n",
    "\n",
    "# Split the data\n",
    "x_train, x_valid, y_train, y_valid = train_test_split(padded, train_labels_cricket, test_size=0.15, shuffle= True) #data, label"
   ]
  },
  {
   "cell_type": "code",
   "execution_count": 131,
   "metadata": {},
   "outputs": [
    {
     "name": "stdout",
     "output_type": "stream",
     "text": [
      "Train on 2025 samples, validate on 358 samples\n",
      "Epoch 1/30\n",
      "2025/2025 [==============================] - 7s 4ms/sample - loss: 0.7281 - accuracy: 0.5490 - precision: 0.3503 - recall: 0.4068 - val_loss: 0.8446 - val_accuracy: 0.4004 - val_precision: 0.2120 - val_recall: 0.3222\n",
      "Epoch 2/30\n",
      "2025/2025 [==============================] - 6s 3ms/sample - loss: 0.6831 - accuracy: 0.5868 - precision: 0.3910 - recall: 0.4349 - val_loss: 0.6862 - val_accuracy: 0.5745 - val_precision: 0.3925 - val_recall: 0.4944\n",
      "Epoch 3/30\n",
      "2025/2025 [==============================] - 6s 3ms/sample - loss: 0.6570 - accuracy: 0.6183 - precision: 0.4390 - recall: 0.4507 - val_loss: 0.6335 - val_accuracy: 0.6350 - val_precision: 0.4486 - val_recall: 0.4722\n",
      "Epoch 4/30\n",
      "2025/2025 [==============================] - 5s 3ms/sample - loss: 0.6173 - accuracy: 0.6576 - precision: 0.4985 - recall: 0.4803 - val_loss: 0.6198 - val_accuracy: 0.6518 - val_precision: 0.4751 - val_recall: 0.4750\n",
      "Epoch 5/30\n",
      "2025/2025 [==============================] - 5s 3ms/sample - loss: 0.5914 - accuracy: 0.6871 - precision: 0.5447 - recall: 0.5182 - val_loss: 0.5806 - val_accuracy: 0.7253 - val_precision: 0.5988 - val_recall: 0.5472\n",
      "Epoch 6/30\n",
      "2025/2025 [==============================] - 6s 3ms/sample - loss: 0.5668 - accuracy: 0.7188 - precision: 0.6083 - recall: 0.5281 - val_loss: 0.5722 - val_accuracy: 0.7291 - val_precision: 0.5974 - val_recall: 0.5583\n",
      "Epoch 7/30\n",
      "2025/2025 [==============================] - 6s 3ms/sample - loss: 0.5531 - accuracy: 0.7376 - precision: 0.6378 - recall: 0.5508 - val_loss: 0.5407 - val_accuracy: 0.7644 - val_precision: 0.6663 - val_recall: 0.5722\n",
      "Epoch 8/30\n",
      "2025/2025 [==============================] - 6s 3ms/sample - loss: 0.5344 - accuracy: 0.7546 - precision: 0.6732 - recall: 0.5705 - val_loss: 0.5432 - val_accuracy: 0.7598 - val_precision: 0.6650 - val_recall: 0.5889\n",
      "Epoch 9/30\n",
      "2025/2025 [==============================] - 5s 3ms/sample - loss: 0.5231 - accuracy: 0.7681 - precision: 0.6991 - recall: 0.5754 - val_loss: 0.5308 - val_accuracy: 0.7756 - val_precision: 0.6883 - val_recall: 0.5806\n",
      "Epoch 10/30\n",
      "2025/2025 [==============================] - 5s 3ms/sample - loss: 0.5074 - accuracy: 0.7753 - precision: 0.7072 - recall: 0.5902 - val_loss: 0.5228 - val_accuracy: 0.7803 - val_precision: 0.6957 - val_recall: 0.6028\n",
      "Epoch 11/30\n",
      "2025/2025 [==============================] - 6s 3ms/sample - loss: 0.4903 - accuracy: 0.7872 - precision: 0.7282 - recall: 0.6036 - val_loss: 0.5225 - val_accuracy: 0.7775 - val_precision: 0.6959 - val_recall: 0.5778\n",
      "Epoch 12/30\n",
      "2025/2025 [==============================] - 6s 3ms/sample - loss: 0.4867 - accuracy: 0.7918 - precision: 0.7227 - recall: 0.6233 - val_loss: 0.5096 - val_accuracy: 0.7961 - val_precision: 0.7235 - val_recall: 0.6167\n",
      "Epoch 13/30\n",
      "2025/2025 [==============================] - 6s 3ms/sample - loss: 0.4760 - accuracy: 0.7947 - precision: 0.7381 - recall: 0.6203 - val_loss: 0.4965 - val_accuracy: 0.8045 - val_precision: 0.7333 - val_recall: 0.6333\n",
      "Epoch 14/30\n",
      "2025/2025 [==============================] - 5s 3ms/sample - loss: 0.4763 - accuracy: 0.7949 - precision: 0.7425 - recall: 0.6144 - val_loss: 0.4961 - val_accuracy: 0.8026 - val_precision: 0.7383 - val_recall: 0.6139\n",
      "Epoch 15/30\n",
      "2025/2025 [==============================] - 6s 3ms/sample - loss: 0.4637 - accuracy: 0.8091 - precision: 0.7549 - recall: 0.6464 - val_loss: 0.4832 - val_accuracy: 0.8119 - val_precision: 0.7469 - val_recall: 0.6444\n",
      "Epoch 16/30\n",
      "2025/2025 [==============================] - 6s 3ms/sample - loss: 0.4565 - accuracy: 0.8135 - precision: 0.7593 - recall: 0.6598 - val_loss: 0.4854 - val_accuracy: 0.8026 - val_precision: 0.7333 - val_recall: 0.6333\n",
      "Epoch 17/30\n",
      "2025/2025 [==============================] - 6s 3ms/sample - loss: 0.4546 - accuracy: 0.8115 - precision: 0.7546 - recall: 0.6558 - val_loss: 0.4763 - val_accuracy: 0.8091 - val_precision: 0.7522 - val_recall: 0.6278\n",
      "Epoch 18/30\n",
      "2025/2025 [==============================] - 6s 3ms/sample - loss: 0.4452 - accuracy: 0.8123 - precision: 0.7601 - recall: 0.6578 - val_loss: 0.4813 - val_accuracy: 0.8045 - val_precision: 0.7330 - val_recall: 0.6417\n",
      "Epoch 19/30\n",
      "2025/2025 [==============================] - 6s 3ms/sample - loss: 0.4368 - accuracy: 0.8189 - precision: 0.7685 - recall: 0.6662 - val_loss: 0.4707 - val_accuracy: 0.8073 - val_precision: 0.7406 - val_recall: 0.6500\n",
      "Epoch 20/30\n",
      "2025/2025 [==============================] - 6s 3ms/sample - loss: 0.4354 - accuracy: 0.8161 - precision: 0.7576 - recall: 0.6721 - val_loss: 0.4724 - val_accuracy: 0.8073 - val_precision: 0.7402 - val_recall: 0.6472\n",
      "Epoch 21/30\n",
      "2025/2025 [==============================] - 6s 3ms/sample - loss: 0.4330 - accuracy: 0.8221 - precision: 0.7666 - recall: 0.6795 - val_loss: 0.4731 - val_accuracy: 0.8082 - val_precision: 0.7502 - val_recall: 0.6361\n",
      "Epoch 22/30\n",
      "2025/2025 [==============================] - 5s 3ms/sample - loss: 0.4251 - accuracy: 0.8216 - precision: 0.7697 - recall: 0.6746 - val_loss: 0.4678 - val_accuracy: 0.8110 - val_precision: 0.7517 - val_recall: 0.6444\n",
      "Epoch 23/30\n",
      "2025/2025 [==============================] - 5s 3ms/sample - loss: 0.4325 - accuracy: 0.8168 - precision: 0.7602 - recall: 0.6701 - val_loss: 0.4626 - val_accuracy: 0.8091 - val_precision: 0.7450 - val_recall: 0.6500\n",
      "Epoch 24/30\n",
      "2025/2025 [==============================] - 6s 3ms/sample - loss: 0.4174 - accuracy: 0.8237 - precision: 0.7736 - recall: 0.6775 - val_loss: 0.4631 - val_accuracy: 0.8175 - val_precision: 0.7517 - val_recall: 0.6722\n",
      "Epoch 25/30\n",
      "2025/2025 [==============================] - 7s 4ms/sample - loss: 0.4180 - accuracy: 0.8240 - precision: 0.7686 - recall: 0.6839 - val_loss: 0.4607 - val_accuracy: 0.8138 - val_precision: 0.7476 - val_recall: 0.6694\n",
      "Epoch 26/30\n",
      "2025/2025 [==============================] - 7s 4ms/sample - loss: 0.4154 - accuracy: 0.8250 - precision: 0.7726 - recall: 0.6849 - val_loss: 0.4628 - val_accuracy: 0.8138 - val_precision: 0.7361 - val_recall: 0.6861\n",
      "Epoch 27/30\n",
      "2025/2025 [==============================] - 6s 3ms/sample - loss: 0.4102 - accuracy: 0.8240 - precision: 0.7709 - recall: 0.6874 - val_loss: 0.4593 - val_accuracy: 0.8119 - val_precision: 0.7335 - val_recall: 0.6833\n",
      "Epoch 28/30\n",
      "2025/2025 [==============================] - 6s 3ms/sample - loss: 0.4035 - accuracy: 0.8296 - precision: 0.7774 - recall: 0.6963 - val_loss: 0.4575 - val_accuracy: 0.8166 - val_precision: 0.7446 - val_recall: 0.6861\n",
      "Epoch 29/30\n",
      "2025/2025 [==============================] - 8s 4ms/sample - loss: 0.4005 - accuracy: 0.8272 - precision: 0.7770 - recall: 0.6898 - val_loss: 0.4586 - val_accuracy: 0.8082 - val_precision: 0.7326 - val_recall: 0.6611\n",
      "Epoch 30/30\n",
      "2025/2025 [==============================] - 16s 8ms/sample - loss: 0.4030 - accuracy: 0.8275 - precision: 0.7757 - recall: 0.6948 - val_loss: 0.4601 - val_accuracy: 0.8119 - val_precision: 0.7472 - val_recall: 0.6472\n"
     ]
    }
   ],
   "source": [
    "model_cricket = detection.fit(x_train, y_train,shuffle=True,epochs=30,batch_size=4,validation_data=(x_valid,y_valid))#,use_multiprocessing=True, workers=8)\n",
    "# model_cricket=detection.fit(padded,train_labels_cricket,shuffle=True,epochs=30,batch_size=16,validation_data=(testing_padded,test_labels_cricket),use_multiprocessing=True, workers=8) #input, output"
   ]
  },
  {
   "cell_type": "code",
   "execution_count": 132,
   "metadata": {},
   "outputs": [
    {
     "name": "stdout",
     "output_type": "stream",
     "text": [
      "596/596 [==============================] - 0s 218us/sample - loss: 0.4944 - accuracy: 0.7852 - precision: 0.7048 - recall: 0.6043\n"
     ]
    },
    {
     "data": {
      "text/plain": [
       "[0.49443360383078555, 0.7852349, 0.7048133, 0.6042763]"
      ]
     },
     "execution_count": 132,
     "metadata": {},
     "output_type": "execute_result"
    }
   ],
   "source": [
    "detection.evaluate(x=testing_padded,y=test_labels_cricket,verbose=1)\n",
    "# loss: - accuracy: - recall:  - precision:"
   ]
  },
  {
   "cell_type": "code",
   "execution_count": 136,
   "metadata": {},
   "outputs": [
    {
     "data": {
      "image/png": "[encoded data removed]",
      "text/plain": [
       "<Figure size 432x288 with 1 Axes>"
      ]
     },
     "metadata": {
      "needs_background": "light"
     },
     "output_type": "display_data"
    },
    {
     "data": {
      "text/plain": [
       "<Figure size 432x288 with 0 Axes>"
      ]
     },
     "metadata": {},
     "output_type": "display_data"
    }
   ],
   "source": [
    "plt.plot(model_cricket.history['loss'], label='loss_train')\n",
    "plt.plot(model_cricket.history['val_loss'], label='loss_val')\n",
    "# plt.plot(mod.history['accuracy'], label='acc_train')\n",
    "# plt.plot(mod.history['val_accuracy'], label='acc_val')\n",
    "plt.legend()\n",
    "plt.title('Train Val_Loss in Proposed Neural Network')\n",
    "plt.show()\n",
    "plt.savefig('LossVal_Loss')"
   ]
  },
  {
   "cell_type": "code",
   "execution_count": 137,
   "metadata": {},
   "outputs": [
    {
     "data": {
      "image/png": "[encoded data removed]",
      "text/plain": [
       "<Figure size 432x288 with 1 Axes>"
      ]
     },
     "metadata": {
      "needs_background": "light"
     },
     "output_type": "display_data"
    },
    {
     "data": {
      "text/plain": [
       "<Figure size 432x288 with 0 Axes>"
      ]
     },
     "metadata": {},
     "output_type": "display_data"
    }
   ],
   "source": [
    "plt.plot(model_cricket.history['accuracy'], label='train acc')\n",
    "plt.plot(model_cricket.history['val_accuracy'], label='val acc')\n",
    "plt.legend()\n",
    "plt.title('TrainVal_Acc in Proposed Neural Network')\n",
    "plt.show()\n",
    "plt.savefig('AccVal_Acc')"
   ]
  }
 ],
 "metadata": {
  "interpreter": {
   "hash": "e896f58382219557ed1cd87260c67d9e69d66db56889d9cde40c814aa57c370f"
  },
  "kernelspec": {
   "display_name": "Python 3.6.13 ('tf_gpu')",
   "language": "python",
   "name": "python3"
  },
  "language_info": {
   "codemirror_mode": {
    "name": "ipython",
    "version": 3
   },
   "file_extension": ".py",
   "mimetype": "text/x-python",
   "name": "python",
   "nbconvert_exporter": "python",
   "pygments_lexer": "ipython3",
   "version": "3.6.13"
  },
  "orig_nbformat": 4
 },
 "nbformat": 4,
 "nbformat_minor": 2
}
