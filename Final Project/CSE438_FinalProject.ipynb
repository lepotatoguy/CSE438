{
 "cells": [
  {
   "cell_type": "markdown",
   "metadata": {},
   "source": [
    "# Importing Libraries"
   ]
  },
  {
   "cell_type": "markdown",
   "metadata": {},
   "source": [
    "Source: https://www.kaggle.com/code/nuhashafnan/bangla-sentiment-analysis-cnn-lstm-hybrid-network"
   ]
  },
  {
   "cell_type": "code",
   "execution_count": 23,
   "metadata": {},
   "outputs": [
    {
     "name": "stdout",
     "output_type": "stream",
     "text": [
      "Requirement already satisfied: unidecode in c:\\users\\joyan\\.conda\\envs\\tf_gpu\\lib\\site-packages (1.3.4)\n",
      "Requirement already satisfied: openpyxl in c:\\users\\joyan\\.conda\\envs\\tf_gpu\\lib\\site-packages (3.0.9)\n",
      "Requirement already satisfied: et-xmlfile in c:\\users\\joyan\\.conda\\envs\\tf_gpu\\lib\\site-packages (from openpyxl) (1.1.0)\n"
     ]
    }
   ],
   "source": [
    "import numpy as np\n",
    "import pandas as pd \n",
    "import seaborn as sns\n",
    "import matplotlib.pyplot as plt\n",
    "\n",
    "import sklearn\n",
    "from sklearn.preprocessing import LabelEncoder\n",
    "\n",
    "!pip install unidecode\n",
    "!pip install openpyxl\n",
    "\n",
    "import pandas as pd\n",
    "from pandas import read_excel\n",
    "import numpy as np\n",
    "import re\n",
    "from re import sub\n",
    "import multiprocessing\n",
    "from unidecode import unidecode\n",
    "import os\n",
    "from time import time \n",
    "import tensorflow as tf\n",
    "from tensorflow.keras.models import Sequential\n",
    "from tensorflow.keras.layers import LSTM,Dense,Dropout,Activation,Embedding,Flatten,Bidirectional,MaxPooling2D, Conv1D, MaxPooling1D, BatchNormalization\n",
    "from tensorflow.keras.optimizers import SGD,Adam\n",
    "from tensorflow.keras import regularizers\n",
    "from tensorflow.keras.preprocessing.text import Tokenizer\n",
    "from tensorflow.keras.preprocessing.sequence import pad_sequences\n",
    "from tensorflow.keras.utils import to_categorical\n",
    "import tensorflow.keras.backend as K\n",
    "import h5py\n",
    "import csv\n",
    "import seaborn as sns\n",
    "import matplotlib.pyplot as plt\n",
    "from sklearn.model_selection import train_test_split\n",
    "from sklearn.model_selection import StratifiedKFold\n",
    "\n"
   ]
  },
  {
   "cell_type": "code",
   "execution_count": 24,
   "metadata": {},
   "outputs": [
    {
     "data": {
      "text/html": [
       "<div>\n",
       "<style scoped>\n",
       "    .dataframe tbody tr th:only-of-type {\n",
       "        vertical-align: middle;\n",
       "    }\n",
       "\n",
       "    .dataframe tbody tr th {\n",
       "        vertical-align: top;\n",
       "    }\n",
       "\n",
       "    .dataframe thead th {\n",
       "        text-align: right;\n",
       "    }\n",
       "</style>\n",
       "<table border=\"1\" class=\"dataframe\">\n",
       "  <thead>\n",
       "    <tr style=\"text-align: right;\">\n",
       "      <th></th>\n",
       "      <th>Source</th>\n",
       "      <th>Date</th>\n",
       "      <th>Text</th>\n",
       "      <th>Category</th>\n",
       "      <th>Polarity</th>\n",
       "    </tr>\n",
       "  </thead>\n",
       "  <tbody>\n",
       "    <tr>\n",
       "      <th>0</th>\n",
       "      <td>BBC Bangla</td>\n",
       "      <td>2018-06-03 00:00:00</td>\n",
       "      <td>জয় বাংলা কাপ! তাও আবার স্বাধীনতার মাস মার্চে। ...</td>\n",
       "      <td>other</td>\n",
       "      <td>positive</td>\n",
       "    </tr>\n",
       "    <tr>\n",
       "      <th>1</th>\n",
       "      <td>BBC Bangla</td>\n",
       "      <td>2018-06-04 00:00:00</td>\n",
       "      <td>জয় বাংলা কাপ! তাও আবার স্বাধীনতার মাস মার্চে। ...</td>\n",
       "      <td>team</td>\n",
       "      <td>positive</td>\n",
       "    </tr>\n",
       "    <tr>\n",
       "      <th>2</th>\n",
       "      <td>BBC Bangla</td>\n",
       "      <td>15/6/2017</td>\n",
       "      <td>বাংলাদেশের পরে ভারতের সাপর্ট ই করি ?</td>\n",
       "      <td>team</td>\n",
       "      <td>positive</td>\n",
       "    </tr>\n",
       "    <tr>\n",
       "      <th>3</th>\n",
       "      <td>BBC Bangla</td>\n",
       "      <td>15/6/2020</td>\n",
       "      <td>সৌম্যকে বাদ দেওয়া হোক</td>\n",
       "      <td>batting</td>\n",
       "      <td>negative</td>\n",
       "    </tr>\n",
       "    <tr>\n",
       "      <th>4</th>\n",
       "      <td>BBC Bangla</td>\n",
       "      <td>27/1/2018</td>\n",
       "      <td>প্রথমটি হচ্ছে, কোচ অত:পর সাকিব,সাকিব আর সাকিবর...</td>\n",
       "      <td>team</td>\n",
       "      <td>positive</td>\n",
       "    </tr>\n",
       "  </tbody>\n",
       "</table>\n",
       "</div>"
      ],
      "text/plain": [
       "       Source                 Date  \\\n",
       "0  BBC Bangla  2018-06-03 00:00:00   \n",
       "1  BBC Bangla  2018-06-04 00:00:00   \n",
       "2  BBC Bangla            15/6/2017   \n",
       "3  BBC Bangla            15/6/2020   \n",
       "4  BBC Bangla            27/1/2018   \n",
       "\n",
       "                                                Text Category  Polarity  \n",
       "0  জয় বাংলা কাপ! তাও আবার স্বাধীনতার মাস মার্চে। ...    other  positive  \n",
       "1  জয় বাংলা কাপ! তাও আবার স্বাধীনতার মাস মার্চে। ...     team  positive  \n",
       "2               বাংলাদেশের পরে ভারতের সাপর্ট ই করি ?     team  positive  \n",
       "3                              সৌম্যকে বাদ দেওয়া হোক  batting  negative  \n",
       "4  প্রথমটি হচ্ছে, কোচ অত:পর সাকিব,সাকিব আর সাকিবর...     team  positive  "
      ]
     },
     "execution_count": 24,
     "metadata": {},
     "output_type": "execute_result"
    }
   ],
   "source": [
    "dataset_cricket = pd.read_excel(io=\"Cricket.xlsx\", sheet_name=\"Sheet1\", engine='openpyxl')\n",
    "dataset_cricket.head()"
   ]
  },
  {
   "cell_type": "code",
   "execution_count": 25,
   "metadata": {},
   "outputs": [
    {
     "name": "stderr",
     "output_type": "stream",
     "text": [
      "C:\\Users\\joyan\\.conda\\envs\\tf_gpu\\lib\\site-packages\\seaborn\\_decorators.py:43: FutureWarning: Pass the following variable as a keyword arg: x. From version 0.12, the only valid positional argument will be `data`, and passing other arguments without an explicit keyword will result in an error or misinterpretation.\n",
      "  FutureWarning\n"
     ]
    },
    {
     "data": {
      "text/plain": [
       "<AxesSubplot:xlabel='Polarity', ylabel='count'>"
      ]
     },
     "execution_count": 25,
     "metadata": {},
     "output_type": "execute_result"
    },
    {
     "data": {
      "image/png": "[encoded data removed]",
      "text/plain": [
       "<Figure size 432x288 with 1 Axes>"
      ]
     },
     "metadata": {
      "needs_background": "light"
     },
     "output_type": "display_data"
    }
   ],
   "source": [
    "sns.countplot(dataset_cricket['Polarity'])"
   ]
  },
  {
   "cell_type": "code",
   "execution_count": 26,
   "metadata": {},
   "outputs": [
    {
     "data": {
      "text/html": [
       "<div>\n",
       "<style scoped>\n",
       "    .dataframe tbody tr th:only-of-type {\n",
       "        vertical-align: middle;\n",
       "    }\n",
       "\n",
       "    .dataframe tbody tr th {\n",
       "        vertical-align: top;\n",
       "    }\n",
       "\n",
       "    .dataframe thead th {\n",
       "        text-align: right;\n",
       "    }\n",
       "</style>\n",
       "<table border=\"1\" class=\"dataframe\">\n",
       "  <thead>\n",
       "    <tr style=\"text-align: right;\">\n",
       "      <th></th>\n",
       "      <th>SL</th>\n",
       "      <th>Text</th>\n",
       "      <th>Category</th>\n",
       "      <th>Polarity</th>\n",
       "    </tr>\n",
       "  </thead>\n",
       "  <tbody>\n",
       "    <tr>\n",
       "      <th>0</th>\n",
       "      <td>0</td>\n",
       "      <td>স্টাফ কিন্তু, আমাদের জন্য ভয়ঙ্কর ছিল।</td>\n",
       "      <td>service</td>\n",
       "      <td>negative</td>\n",
       "    </tr>\n",
       "    <tr>\n",
       "      <th>1</th>\n",
       "      <td>1</td>\n",
       "      <td>শুধুমাত্র,রিডামিং ফ্যাক্টর খাদ্য ছিল,পুরোপুরি ...</td>\n",
       "      <td>food</td>\n",
       "      <td>positive</td>\n",
       "    </tr>\n",
       "    <tr>\n",
       "      <th>2</th>\n",
       "      <td>2</td>\n",
       "      <td>শুধুমাত্র,রিডামিং ফ্যাক্টর খাদ্য ছিল,পুরোপুরি ...</td>\n",
       "      <td>anecdotes/miscellaneous</td>\n",
       "      <td>negative</td>\n",
       "    </tr>\n",
       "    <tr>\n",
       "      <th>3</th>\n",
       "      <td>3</td>\n",
       "      <td>খাবার একদমই ব্যতিক্রমী, একটি খুব সক্ষম রান্নাঘ...</td>\n",
       "      <td>food</td>\n",
       "      <td>positive</td>\n",
       "    </tr>\n",
       "    <tr>\n",
       "      <th>4</th>\n",
       "      <td>4</td>\n",
       "      <td>যেখানে গাব্রিয়েলা লোকালি আপনাকে শুভেচ্ছা জানা...</td>\n",
       "      <td>service</td>\n",
       "      <td>positive</td>\n",
       "    </tr>\n",
       "  </tbody>\n",
       "</table>\n",
       "</div>"
      ],
      "text/plain": [
       "   SL                                               Text  \\\n",
       "0   0              স্টাফ কিন্তু, আমাদের জন্য ভয়ঙ্কর ছিল।   \n",
       "1   1  শুধুমাত্র,রিডামিং ফ্যাক্টর খাদ্য ছিল,পুরোপুরি ...   \n",
       "2   2  শুধুমাত্র,রিডামিং ফ্যাক্টর খাদ্য ছিল,পুরোপুরি ...   \n",
       "3   3  খাবার একদমই ব্যতিক্রমী, একটি খুব সক্ষম রান্নাঘ...   \n",
       "4   4  যেখানে গাব্রিয়েলা লোকালি আপনাকে শুভেচ্ছা জানা...   \n",
       "\n",
       "                  Category  Polarity  \n",
       "0                  service  negative  \n",
       "1                     food  positive  \n",
       "2  anecdotes/miscellaneous  negative  \n",
       "3                     food  positive  \n",
       "4                  service  positive  "
      ]
     },
     "execution_count": 26,
     "metadata": {},
     "output_type": "execute_result"
    }
   ],
   "source": [
    "dataset_restaurant = pd.read_excel(io=\"Restaurant.xlsx\", sheet_name=\"Sheet1\", engine='openpyxl')\n",
    "dataset_restaurant.head()"
   ]
  },
  {
   "cell_type": "code",
   "execution_count": 27,
   "metadata": {},
   "outputs": [
    {
     "name": "stderr",
     "output_type": "stream",
     "text": [
      "C:\\Users\\joyan\\.conda\\envs\\tf_gpu\\lib\\site-packages\\seaborn\\_decorators.py:43: FutureWarning: Pass the following variable as a keyword arg: x. From version 0.12, the only valid positional argument will be `data`, and passing other arguments without an explicit keyword will result in an error or misinterpretation.\n",
      "  FutureWarning\n"
     ]
    },
    {
     "data": {
      "text/plain": [
       "<AxesSubplot:xlabel='Polarity', ylabel='count'>"
      ]
     },
     "execution_count": 27,
     "metadata": {},
     "output_type": "execute_result"
    },
    {
     "data": {
      "image/png": "[encoded data removed]",
      "text/plain": [
       "<Figure size 432x288 with 1 Axes>"
      ]
     },
     "metadata": {
      "needs_background": "light"
     },
     "output_type": "display_data"
    }
   ],
   "source": [
    "sns.countplot(dataset_restaurant['Polarity'])"
   ]
  },
  {
   "cell_type": "markdown",
   "metadata": {},
   "source": [
    "4 polarities in Restaurant Dataset"
   ]
  },
  {
   "cell_type": "markdown",
   "metadata": {},
   "source": [
    "# Data Preprocessing"
   ]
  },
  {
   "cell_type": "code",
   "execution_count": 28,
   "metadata": {},
   "outputs": [],
   "source": [
    "def text_to_word_list(text):\n",
    "    text = text.split()\n",
    "    return text\n",
    "\n",
    "def replace_strings(text):\n",
    "    emoji_pattern = re.compile(\"[\"\n",
    "                           u\"\\U0001F600-\\U0001F64F\"  # emoticons\n",
    "                           u\"\\U0001F300-\\U0001F5FF\"  # symbols & pictographs\n",
    "                           u\"\\U0001F680-\\U0001F6FF\"  # transport & map symbols\n",
    "                           u\"\\U0001F1E0-\\U0001F1FF\"  # flags (iOS)\n",
    "                           u\"\\U00002702-\\U000027B0\"\n",
    "                           u\"\\U000024C2-\\U0001F251\"\n",
    "                           u\"\\u00C0-\\u017F\"          #latin\n",
    "                           u\"\\u2000-\\u206F\"          #generalPunctuations\n",
    "                               \n",
    "                           \"]+\", flags=re.UNICODE)\n",
    "    english_pattern=re.compile('[a-zA-Z0-9]+', flags=re.I)\n",
    "    #latin_pattern=re.compile('[A-Za-z\\u00C0-\\u00D6\\u00D8-\\u00f6\\u00f8-\\u00ff\\s]*',)\n",
    "    \n",
    "    text=emoji_pattern.sub(r'', text)\n",
    "    text=english_pattern.sub(r'', text)\n",
    "\n",
    "    return text\n",
    "\n",
    "def remove_punctuations(my_str):\n",
    "    # define punctuation\n",
    "    punctuations = '''```\u0012\u0010\u0002\b`\u0007\b£|¢|\u0007Ñ+-*/=EROero৳০১২৩৪৫৬৭৮৯012–34567•89।!()-[]{};:'\"“\\’,<>./?@#$%^&*_~‘—॥”‰⚽️✌�￰৷￰'''\n",
    "    \n",
    "    no_punct = \"\"\n",
    "    for char in my_str:\n",
    "        if char not in punctuations:\n",
    "            no_punct = no_punct + char\n",
    "\n",
    "    # display the unpunctuated string\n",
    "    return no_punct\n",
    "\n",
    "\n",
    "\n",
    "def joining(text):\n",
    "    out=' '.join(text)\n",
    "    return out\n",
    "\n",
    "def preprocessing(text):\n",
    "    out=remove_punctuations(replace_strings(text))\n",
    "    return out"
   ]
  },
  {
   "cell_type": "code",
   "execution_count": 29,
   "metadata": {},
   "outputs": [],
   "source": [
    "dataset_restaurant['Text'] = dataset_restaurant.Text.apply(lambda x: preprocessing(str(x)))\n",
    "dataset_cricket['Text'] = dataset_cricket.Text.apply(lambda x: preprocessing(str(x)))"
   ]
  },
  {
   "cell_type": "code",
   "execution_count": 30,
   "metadata": {},
   "outputs": [],
   "source": [
    "dataset_cricket.reset_index(drop=True, inplace=True)\n",
    "dataset_restaurant.reset_index(drop=True, inplace=True)"
   ]
  },
  {
   "cell_type": "code",
   "execution_count": 31,
   "metadata": {},
   "outputs": [],
   "source": [
    "enc = LabelEncoder()\n",
    "dataset_cricket['Polarity'] = enc.fit_transform(dataset_cricket['Polarity'])\n",
    "dataset_restaurant['Polarity'] = enc.fit_transform(dataset_restaurant['Polarity'])"
   ]
  },
  {
   "cell_type": "markdown",
   "metadata": {},
   "source": [
    "Now I will prepare the dataset to train in the CNN LSTM network.So i have to convert all Sentences into a numpy Array.\n",
    "\n",
    "I have divided the training and testing data into 80/20 ratio.\n",
    "\n",
    "I have converted the sentiment values into one hot encodings for the convenient use in model training."
   ]
  },
  {
   "cell_type": "code",
   "execution_count": 32,
   "metadata": {},
   "outputs": [
    {
     "name": "stdout",
     "output_type": "stream",
     "text": [
      "Training Set Length: 2383\n",
      "Testing Set Length: 596\n",
      "training_sentences shape: (2383,)\n",
      "testing_sentences shape: (596,)\n",
      "train_labels shape: (2383, 3)\n",
      "test_labels shape: (596, 3)\n"
     ]
    }
   ],
   "source": [
    "train1, test1 = train_test_split(dataset_cricket,random_state=69, test_size=0.2)\n",
    "training_sentences_cricket = []\n",
    "testing_sentences_cricket = []\n",
    "\n",
    "\n",
    "\n",
    "train_sentences_cricket=train1['Text'].values\n",
    "train_labels_cricket=train1['Polarity'].values\n",
    "for i in range(train_sentences_cricket.shape[0]): \n",
    "    #print(train_sentences[i])\n",
    "    x=str(train_sentences_cricket[i])\n",
    "    training_sentences_cricket.append(x)\n",
    "    \n",
    "training_sentences_cricket=np.array(training_sentences_cricket)\n",
    "\n",
    "\n",
    "\n",
    "\n",
    "\n",
    "test_sentences_cricket=test1['Text'].values\n",
    "test_labels_cricket=test1['Polarity'].values\n",
    "\n",
    "for i in range(test_sentences_cricket.shape[0]): \n",
    "    x=str(test_sentences_cricket[i])\n",
    "    testing_sentences_cricket.append(x)\n",
    "    \n",
    "testing_sentences_cricket=np.array(testing_sentences_cricket)\n",
    "\n",
    "\n",
    "train_labels_cricket=tf.keras.utils.to_categorical(train_labels_cricket)\n",
    "\n",
    "\n",
    "test_labels_cricket=tf.keras.utils.to_categorical(test_labels_cricket)\n",
    "print(\"Training Set Length: \"+str(len(train1)))\n",
    "print(\"Testing Set Length: \"+str(len(test1)))\n",
    "print(\"training_sentences shape: \"+str(training_sentences_cricket.shape))\n",
    "print(\"testing_sentences shape: \"+str(testing_sentences_cricket.shape))\n",
    "print(\"train_labels shape: \"+str(train_labels_cricket.shape))\n",
    "print(\"test_labels shape: \"+str(test_labels_cricket.shape))"
   ]
  },
  {
   "cell_type": "code",
   "execution_count": 33,
   "metadata": {},
   "outputs": [
    {
     "name": "stdout",
     "output_type": "stream",
     "text": [
      "নবাগত প্লেয়ার হয়েও চাপের মুখে দলের বিপদে চমৎকার একটি  রানের ইনিংস খেলেছেন লিটন\n",
      "[1. 0. 0.]\n"
     ]
    }
   ],
   "source": [
    "print(training_sentences_cricket[1])\n",
    "print(train_labels_cricket[0])"
   ]
  },
  {
   "cell_type": "markdown",
   "metadata": {},
   "source": [
    "Now i will predefine some variables.\n",
    "\n",
    "vocab_size is the maximum vocabulary length of Tokenizer.\n",
    "\n",
    "KERAS tokenzier allows to vectorize a text corpus, by turning each text into either a sequence of integers (each integer being the index of a token in a dictionary) or into a vector where the coefficient for each token could be binary, based on word count, based on tf-idf...\n",
    "\n",
    "I will be tokenizing my dataset with this class here.I have did this tokenization so that it can be later used to generate Embeddings.\n",
    "\n",
    "The main advantage of word embedding is that words that share a similar context can be represented close to each other in the vector space. Thus, vectors carry a sense of semantic of a word.\n",
    "\n",
    "I have predefined the embedding dimension as 300(embedding_dim).\n",
    "\n",
    "max_length is the sentence maximum length.\n",
    "\n",
    "trunc_type is the truncation type.\n",
    "\n",
    "oov_token is the token for the words that are not present in the corpus.oov means out of vocabulary."
   ]
  },
  {
   "cell_type": "code",
   "execution_count": 34,
   "metadata": {},
   "outputs": [],
   "source": [
    "vocab_size = len(training_sentences_cricket)+1\n",
    "embedding_dim = 100\n",
    "max_length = 100\n",
    "trunc_type='post'\n",
    "oov_tok = \"<OOV>\""
   ]
  },
  {
   "cell_type": "code",
   "execution_count": 35,
   "metadata": {},
   "outputs": [
    {
     "name": "stdout",
     "output_type": "stream",
     "text": [
      "(2383,)\n",
      "(2383, 3)\n"
     ]
    }
   ],
   "source": [
    "print(training_sentences_cricket.shape)\n",
    "print(train_labels_cricket.shape)"
   ]
  },
  {
   "cell_type": "markdown",
   "metadata": {},
   "source": [
    "At first i will tokenize and then i will be padding the sequences.I have used tokenizer only on training dataset to see how the model performs on unseen words."
   ]
  },
  {
   "cell_type": "code",
   "execution_count": 36,
   "metadata": {},
   "outputs": [
    {
     "name": "stdout",
     "output_type": "stream",
     "text": [
      "6414\n",
      "Word index length:6414\n"
     ]
    }
   ],
   "source": [
    "tokenizer = Tokenizer(num_words = vocab_size, oov_token=oov_tok)\n",
    "tokenizer.fit_on_texts(training_sentences_cricket)\n",
    "word_index = tokenizer.word_index\n",
    "print(len(word_index))\n",
    "print(\"Word index length:\"+str(len(tokenizer.word_index)))\n",
    "sequences = tokenizer.texts_to_sequences(training_sentences_cricket)\n",
    "padded = pad_sequences(sequences,maxlen=max_length, truncating=trunc_type)\n",
    "\n",
    "\n",
    "test_sequences = tokenizer.texts_to_sequences(testing_sentences_cricket)\n",
    "testing_padded = pad_sequences(test_sequences,maxlen=max_length)"
   ]
  },
  {
   "cell_type": "code",
   "execution_count": 37,
   "metadata": {},
   "outputs": [
    {
     "name": "stdout",
     "output_type": "stream",
     "text": [
      "Sentence :--> \n",
      "\n",
      "তারা কোথায় যারা বলেছিল হাতুরাসিংহে বনাম বাংলাদেশ এর খেলা\n",
      "\n",
      "Sentence Tokenized and Converted into Sequence :--> \n",
      "\n",
      "[70, 1514, 141, 859, 1, 460, 4, 19, 23]\n",
      "\n",
      "After Padding the Sequence with padding length 100 :--> \n",
      "\n",
      "[   0    0    0    0    0    0    0    0    0    0    0    0    0    0\n",
      "    0    0    0    0    0    0    0    0    0    0    0    0    0    0\n",
      "    0    0    0    0    0    0    0    0    0    0    0    0    0    0\n",
      "    0    0    0    0    0    0    0    0    0    0    0    0    0    0\n",
      "    0    0    0    0    0    0    0    0    0    0    0    0    0    0\n",
      "    0    0    0    0    0    0    0    0    0    0    0    0    0    0\n",
      "    0    0    0    0    0    0    0   70 1514  141  859    1  460    4\n",
      "   19   23]\n"
     ]
    }
   ],
   "source": [
    "print(\"Sentence :--> \\n\")\n",
    "print(training_sentences_cricket[2]+\"\\n\")\n",
    "print(\"Sentence Tokenized and Converted into Sequence :--> \\n\")\n",
    "print(str(sequences[2])+\"\\n\")\n",
    "print(\"After Padding the Sequence with padding length 100 :--> \\n\")\n",
    "print(padded[2])"
   ]
  },
  {
   "cell_type": "code",
   "execution_count": 38,
   "metadata": {},
   "outputs": [
    {
     "name": "stdout",
     "output_type": "stream",
     "text": [
      "Padded shape(training): (2383, 100)\n",
      "Padded shape(testing): (596, 100)\n"
     ]
    }
   ],
   "source": [
    "print(\"Padded shape(training): \"+str(padded.shape))\n",
    "print(\"Padded shape(testing): \"+str(testing_padded.shape))"
   ]
  },
  {
   "cell_type": "markdown",
   "metadata": {},
   "source": [
    "# Model Creation"
   ]
  },
  {
   "cell_type": "markdown",
   "metadata": {},
   "source": [
    "At first i have created embeddings from the text.\n",
    "\n",
    "In first layer,i created an conv1D with 200 as filter for CNN.\n",
    "\n",
    "In second & third layer,i have applied two Bi-LSTM with a dropout of .5.\n",
    "\n",
    "In rest of the layer i have applied Dense network.\n",
    "\n",
    "I have used Adap Optimizer with fine tuned hyperparameters.\n",
    "\n",
    "I have also applied L2 regularizations to reduce overfitting as much as possible."
   ]
  },
  {
   "cell_type": "code",
   "execution_count": 39,
   "metadata": {},
   "outputs": [],
   "source": [
    "def precision(y_true, y_pred):\n",
    "    true_positives = K.sum(K.round(K.clip(y_true * y_pred, 0, 1)))\n",
    "    predicted_positives = K.sum(K.round(K.clip(y_pred, 0, 1)))\n",
    "    precision = true_positives / (predicted_positives + K.epsilon())\n",
    "    return precision\n",
    "\n",
    "def recall(y_true, y_pred):\n",
    "    true_positives = K.sum(K.round(K.clip(y_true * y_pred, 0, 1)))\n",
    "    possible_positives = K.sum(K.round(K.clip(y_true, 0, 1)))\n",
    "    recall = true_positives / (possible_positives + K.epsilon())\n",
    "    return recall\n",
    "\n",
    "def f1_score(y_true, y_pred):\n",
    "    pr = precision(y_true, y_pred)\n",
    "    rec = recall(y_true, y_pred)\n",
    "    f1_score = 2 * (pr * rec) / (pr + rec)\n",
    "    return f1_score"
   ]
  },
  {
   "cell_type": "code",
   "execution_count": 40,
   "metadata": {},
   "outputs": [],
   "source": [
    "# with tf.device('/gpu:0'):\n",
    "#     model= Sequential()\n",
    "#     model.add(Embedding(vocab_size, embedding_dim, input_length=max_length))\n",
    "#     model.add(Conv1D(50, kernel_size=3, activation = \"relu\"))\n",
    "#     model.add(Dropout(0.3))\n",
    "#     model.add(Conv1D(100, kernel_size=3, activation = \"relu\"))\n",
    "#     # model.add(Bidirectional(LSTM(64, return_sequences=True)))\n",
    "#     model.add(Dropout(0.3))\n",
    "#     # model.add(Bidirectional(LSTM(64)))\n",
    "#     # model.add(Dense(50, activation='relu'))\n",
    "#     model.add(Dense(50, activation='relu'))\n",
    "#     model.add(Flatten())\n",
    "#     #l2 regularizer\n",
    "#     model.add(Dense(100,kernel_regularizer=regularizers.l2(0.01),activation=\"relu\"))\n",
    "#     model.add(Dense(3, activation='softmax'))\n",
    "#     #sgd= SGD(lr=0.0001,decay=1e-6,momentum=0.9,nesterov=True)\n",
    "#     adam=Adam(learning_rate=0.0005,beta_1=0.9,beta_2=0.999,epsilon=1e-07,amsgrad=False)\n",
    "#     model.summary()\n",
    "#     model.compile(loss='categorical_crossentropy',optimizer=adam,metrics=['accuracy'])"
   ]
  },
  {
   "cell_type": "code",
   "execution_count": 41,
   "metadata": {},
   "outputs": [
    {
     "name": "stdout",
     "output_type": "stream",
     "text": [
      "Model: \"sequential_1\"\n",
      "_________________________________________________________________\n",
      "Layer (type)                 Output Shape              Param #   \n",
      "=================================================================\n",
      "embedding_1 (Embedding)      (None, 100, 100)          238400    \n",
      "_________________________________________________________________\n",
      "conv1d_5 (Conv1D)            (None, 98, 96)            28896     \n",
      "_________________________________________________________________\n",
      "batch_normalization_9 (Batch (None, 98, 96)            384       \n",
      "_________________________________________________________________\n",
      "activation_9 (Activation)    (None, 98, 96)            0         \n",
      "_________________________________________________________________\n",
      "conv1d_6 (Conv1D)            (None, 96, 128)           36992     \n",
      "_________________________________________________________________\n",
      "batch_normalization_10 (Batc (None, 96, 128)           512       \n",
      "_________________________________________________________________\n",
      "activation_10 (Activation)   (None, 96, 128)           0         \n",
      "_________________________________________________________________\n",
      "dropout_4 (Dropout)          (None, 96, 128)           0         \n",
      "_________________________________________________________________\n",
      "conv1d_7 (Conv1D)            (None, 94, 256)           98560     \n",
      "_________________________________________________________________\n",
      "batch_normalization_11 (Batc (None, 94, 256)           1024      \n",
      "_________________________________________________________________\n",
      "activation_11 (Activation)   (None, 94, 256)           0         \n",
      "_________________________________________________________________\n",
      "dropout_5 (Dropout)          (None, 94, 256)           0         \n",
      "_________________________________________________________________\n",
      "conv1d_8 (Conv1D)            (None, 92, 384)           295296    \n",
      "_________________________________________________________________\n",
      "batch_normalization_12 (Batc (None, 92, 384)           1536      \n",
      "_________________________________________________________________\n",
      "activation_12 (Activation)   (None, 92, 384)           0         \n",
      "_________________________________________________________________\n",
      "dropout_6 (Dropout)          (None, 92, 384)           0         \n",
      "_________________________________________________________________\n",
      "conv1d_9 (Conv1D)            (None, 90, 512)           590336    \n",
      "_________________________________________________________________\n",
      "batch_normalization_13 (Batc (None, 90, 512)           2048      \n",
      "_________________________________________________________________\n",
      "activation_13 (Activation)   (None, 90, 512)           0         \n",
      "_________________________________________________________________\n",
      "dropout_7 (Dropout)          (None, 90, 512)           0         \n",
      "_________________________________________________________________\n",
      "flatten_4 (Flatten)          (None, 46080)             0         \n",
      "_________________________________________________________________\n",
      "dense_5 (Dense)              (None, 512)               23593472  \n",
      "_________________________________________________________________\n",
      "batch_normalization_14 (Batc (None, 512)               2048      \n",
      "_________________________________________________________________\n",
      "activation_14 (Activation)   (None, 512)               0         \n",
      "_________________________________________________________________\n",
      "flatten_5 (Flatten)          (None, 512)               0         \n",
      "_________________________________________________________________\n",
      "dense_6 (Dense)              (None, 256)               131328    \n",
      "_________________________________________________________________\n",
      "batch_normalization_15 (Batc (None, 256)               1024      \n",
      "_________________________________________________________________\n",
      "activation_15 (Activation)   (None, 256)               0         \n",
      "_________________________________________________________________\n",
      "flatten_6 (Flatten)          (None, 256)               0         \n",
      "_________________________________________________________________\n",
      "dense_7 (Dense)              (None, 128)               32896     \n",
      "_________________________________________________________________\n",
      "batch_normalization_16 (Batc (None, 128)               512       \n",
      "_________________________________________________________________\n",
      "activation_16 (Activation)   (None, 128)               0         \n",
      "_________________________________________________________________\n",
      "flatten_7 (Flatten)          (None, 128)               0         \n",
      "_________________________________________________________________\n",
      "dense_8 (Dense)              (None, 64)                8256      \n",
      "_________________________________________________________________\n",
      "batch_normalization_17 (Batc (None, 64)                256       \n",
      "_________________________________________________________________\n",
      "activation_17 (Activation)   (None, 64)                0         \n",
      "_________________________________________________________________\n",
      "dense_9 (Dense)              (None, 3)                 195       \n",
      "=================================================================\n",
      "Total params: 25,063,971\n",
      "Trainable params: 25,059,299\n",
      "Non-trainable params: 4,672\n",
      "_________________________________________________________________\n"
     ]
    }
   ],
   "source": [
    "# from tensorflow.keras.layers import GlobalMaxPooling1D\n",
    "\n",
    "detection=Sequential()\n",
    "\n",
    "detection.add(Embedding(vocab_size, embedding_dim, input_length=max_length))\n",
    "\n",
    "#1 -convolutional layer-1\n",
    "# detection.add(Conv1D(64 ,kernel_size=3))\n",
    "# detection.add(BatchNormalization())\n",
    "# detection.add(Activation('relu'))\n",
    "# detection.add(GlobalMaxPooling1D())\n",
    "\n",
    "#2 -convolutional layer-2\n",
    "detection.add(Conv1D(96,kernel_size=3))\n",
    "detection.add(BatchNormalization())\n",
    "detection.add(Activation('relu'))\n",
    "# detection.add(GlobalMaxPooling1D())\n",
    "\n",
    "#2 -convolutional layer-2\n",
    "detection.add(Conv1D(128,kernel_size=3))\n",
    "detection.add(BatchNormalization())\n",
    "detection.add(Activation('relu'))\n",
    "# detection.add(GlobalMaxPooling1D())\n",
    "detection.add(Dropout(0.2))\n",
    "\n",
    "\n",
    "#2 -convolutional layer-2\n",
    "detection.add(Conv1D(256,kernel_size=3))\n",
    "detection.add(BatchNormalization())\n",
    "detection.add(Activation('relu'))\n",
    "# detection.add(MaxPooling2D(pool_size=(2,2)))\n",
    "# detection.add(GlobalMaxPooling1D())\n",
    "detection.add(Dropout(0.2))\n",
    "\n",
    "#3 -convolutional layer-3\n",
    "detection.add(Conv1D(384,kernel_size=3))\n",
    "detection.add(BatchNormalization())\n",
    "detection.add(Activation('relu'))\n",
    "# detection.add(GlobalMaxPooling1D())\n",
    "# detection.add(MaxPooling2D(pool_size=(2,2)))\n",
    "# detection.add(UpSampling2D(input_shape=(512, 3, 3)))\n",
    "detection.add(Dropout(0.2))\n",
    "\n",
    "#3 -convolutional layer-3\n",
    "detection.add(Conv1D(512,kernel_size=3))\n",
    "detection.add(BatchNormalization())\n",
    "detection.add(Activation('relu'))\n",
    "# detection.add(GlobalMaxPooling1D())\n",
    "# detection.add(MaxPooling2D(pool_size=(2,2)))\n",
    "# detection.add(UpSampling2D(input_shape=(512, 3, 3)))\n",
    "detection.add(Dropout(0.3))\n",
    "\n",
    "\n",
    "detection.add(Flatten())\n",
    "detection.add(Dense(512))\n",
    "detection.add(BatchNormalization())\n",
    "detection.add(Activation('relu'))\n",
    "\n",
    "detection.add(Flatten())\n",
    "detection.add(Dense(256))\n",
    "detection.add(BatchNormalization())\n",
    "detection.add(Activation('relu'))\n",
    "\n",
    "detection.add(Flatten())\n",
    "detection.add(Dense(128))\n",
    "detection.add(BatchNormalization())\n",
    "detection.add(Activation('relu'))\n",
    "\n",
    "detection.add(Flatten())\n",
    "detection.add(Dense(64))\n",
    "detection.add(BatchNormalization())\n",
    "detection.add(Activation('relu'))\n",
    "\n",
    "detection.add(Dense(3,activation='sigmoid'))\n",
    "optimum=Adam(lr=0.0001)\n",
    "detection.summary()\n",
    "detection.compile(optimizer=optimum,loss='binary_crossentropy',metrics=['accuracy', precision, recall,  f1_score])"
   ]
  },
  {
   "cell_type": "code",
   "execution_count": 42,
   "metadata": {},
   "outputs": [
    {
     "name": "stdout",
     "output_type": "stream",
     "text": [
      "Train on 2383 samples, validate on 596 samples\n",
      "Epoch 1/10\n",
      "2383/2383 [==============================] - 6s 2ms/sample - loss: 0.7582 - accuracy: 0.4988 - precision: 0.3529 - recall: 0.5891 - f1_score: 0.4400 - val_loss: 0.6838 - val_accuracy: 0.6717 - val_precision: 0.2500 - val_recall: 0.0181 - val_f1_score: nan\n",
      "Epoch 2/10\n",
      "2383/2383 [==============================] - 3s 1ms/sample - loss: 0.6079 - accuracy: 0.6889 - precision: 0.5418 - recall: 0.6462 - f1_score: 0.5844 - val_loss: 0.6119 - val_accuracy: 0.6667 - val_precision: 0.0000e+00 - val_recall: 0.0000e+00 - val_f1_score: nan\n",
      "Epoch 3/10\n",
      "2383/2383 [==============================] - 3s 1ms/sample - loss: 0.5227 - accuracy: 0.7937 - precision: 0.6993 - recall: 0.6773 - f1_score: 0.6864 - val_loss: 0.5947 - val_accuracy: 0.7097 - val_precision: 0.8295 - val_recall: 0.1612 - val_f1_score: nan\n",
      "Epoch 4/10\n",
      "2383/2383 [==============================] - 3s 1ms/sample - loss: 0.4852 - accuracy: 0.8133 - precision: 0.7290 - recall: 0.7037 - f1_score: 0.7153 - val_loss: 0.5401 - val_accuracy: 0.7880 - val_precision: 0.6875 - val_recall: 0.6414 - val_f1_score: 0.6631\n",
      "Epoch 5/10\n",
      "2383/2383 [==============================] - 3s 1ms/sample - loss: 0.4623 - accuracy: 0.8145 - precision: 0.7302 - recall: 0.7059 - f1_score: 0.7174 - val_loss: 0.5246 - val_accuracy: 0.7824 - val_precision: 0.6818 - val_recall: 0.6234 - val_f1_score: 0.6500\n",
      "Epoch 6/10\n",
      "2383/2383 [==============================] - 3s 1ms/sample - loss: 0.4425 - accuracy: 0.8163 - precision: 0.7375 - recall: 0.6979 - f1_score: 0.7165 - val_loss: 0.4879 - val_accuracy: 0.7953 - val_precision: 0.6884 - val_recall: 0.6711 - val_f1_score: 0.6793\n",
      "Epoch 7/10\n",
      "2383/2383 [==============================] - 3s 1ms/sample - loss: 0.4203 - accuracy: 0.8243 - precision: 0.7584 - recall: 0.6958 - f1_score: 0.7245 - val_loss: 0.4956 - val_accuracy: 0.7847 - val_precision: 0.6810 - val_recall: 0.6316 - val_f1_score: 0.6548\n",
      "Epoch 8/10\n",
      "2383/2383 [==============================] - 3s 1ms/sample - loss: 0.4003 - accuracy: 0.8309 - precision: 0.7716 - recall: 0.7003 - f1_score: 0.7331 - val_loss: 0.4866 - val_accuracy: 0.7869 - val_precision: 0.6884 - val_recall: 0.6431 - val_f1_score: 0.6640\n",
      "Epoch 9/10\n",
      "2383/2383 [==============================] - 3s 1ms/sample - loss: 0.3656 - accuracy: 0.8477 - precision: 0.8062 - recall: 0.7134 - f1_score: 0.7557 - val_loss: 0.4922 - val_accuracy: 0.7701 - val_precision: 0.6712 - val_recall: 0.5938 - val_f1_score: 0.6283\n",
      "Epoch 10/10\n",
      "2383/2383 [==============================] - 3s 1ms/sample - loss: 0.3376 - accuracy: 0.8622 - precision: 0.8328 - recall: 0.7352 - f1_score: 0.7796 - val_loss: 0.5000 - val_accuracy: 0.7696 - val_precision: 0.6775 - val_recall: 0.5773 - val_f1_score: 0.6220\n"
     ]
    }
   ],
   "source": [
    "model_cricket=detection.fit(padded,train_labels_cricket,shuffle=True,epochs=10,batch_size=16,validation_data=(testing_padded,test_labels_cricket),use_multiprocessing=True, workers=8)"
   ]
  },
  {
   "cell_type": "code",
   "execution_count": 43,
   "metadata": {},
   "outputs": [
    {
     "data": {
      "image/png": "[encoded data removed]",
      "text/plain": [
       "<Figure size 432x288 with 1 Axes>"
      ]
     },
     "metadata": {
      "needs_background": "light"
     },
     "output_type": "display_data"
    }
   ],
   "source": [
    "plt.plot(model_cricket.history['loss'], label='loss_train')\n",
    "plt.plot(model_cricket.history['val_loss'], label='loss_val')\n",
    "# plt.plot(mod.history['accuracy'], label='acc_train')\n",
    "# plt.plot(mod.history['val_accuracy'], label='acc_val')\n",
    "plt.legend()\n",
    "plt.title('Train Val_Loss in Proposed Neural Network')\n",
    "plt.show()\n",
    "# plt.savefig('LossVal_loss_nonaugmented')"
   ]
  },
  {
   "cell_type": "code",
   "execution_count": 44,
   "metadata": {},
   "outputs": [
    {
     "data": {
      "image/png": "[encoded data removed]",
      "text/plain": [
       "<Figure size 432x288 with 1 Axes>"
      ]
     },
     "metadata": {
      "needs_background": "light"
     },
     "output_type": "display_data"
    }
   ],
   "source": [
    "plt.plot(model_cricket.history['accuracy'], label='train acc')\n",
    "plt.plot(model_cricket.history['val_accuracy'], label='val acc')\n",
    "plt.legend()\n",
    "plt.title('TrainVal_Acc in Proposed Neural Network')\n",
    "plt.show()\n",
    "# plt.savefig('AccVal_acc_nonaugmented')"
   ]
  }
 ],
 "metadata": {
  "interpreter": {
   "hash": "8c189ccbbb553d402b53b479a05b4088e156b03b3381c6ebf8efed8b03ce63e0"
  },
  "kernelspec": {
   "display_name": "Python 3.6.13 ('tf_gpu')",
   "language": "python",
   "name": "python3"
  },
  "language_info": {
   "codemirror_mode": {
    "name": "ipython",
    "version": 3
   },
   "file_extension": ".py",
   "mimetype": "text/x-python",
   "name": "python",
   "nbconvert_exporter": "python",
   "pygments_lexer": "ipython3",
   "version": "3.6.13"
  },
  "orig_nbformat": 4
 },
 "nbformat": 4,
 "nbformat_minor": 2
}
